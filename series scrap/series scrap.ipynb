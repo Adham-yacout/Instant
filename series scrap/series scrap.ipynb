{
 "cells": [
  {
   "cell_type": "code",
   "execution_count": 2,
   "id": "f3edb8b0",
   "metadata": {
    "ExecuteTime": {
     "end_time": "2023-05-22T14:50:10.197216Z",
     "start_time": "2023-05-22T14:50:09.206469Z"
    }
   },
   "outputs": [],
   "source": [
    "import requests\n",
    "from bs4 import BeautifulSoup\n",
    "import csv\n",
    "website = requests.get(\"https://www.imdb.com/chart/tvmeter/?ref_=nv_tvv_mptv\").text\n",
    "soup = BeautifulSoup(website, 'lxml')\n",
    "\n",
    "lister = soup.find('div', class_='lister')\n",
    "body = lister.find('tbody')\n",
    "titles = body.find_all('td', class_='titleColumn')\n",
    "ratings = body.find_all('td', class_='ratingColumn imdbRating')\n",
    "csvfile = open('series.csv', 'w', encoding='utf-8')\n",
    "writer = csv.writer(csvfile)\n",
    "writer.writerow(['series', 'Rating'])\n",
    "for title, rating in zip(titles, ratings):\n",
    "    writer.writerow([title.a.text.strip(),rating.text.strip()])\n",
    "    \n",
    "\n",
    "csvfile.close()"
   ]
  },
  {
   "cell_type": "code",
   "execution_count": null,
   "id": "b7f73f2b",
   "metadata": {},
   "outputs": [],
   "source": []
  }
 ],
 "metadata": {
  "kernelspec": {
   "display_name": "Python 3 (ipykernel)",
   "language": "python",
   "name": "python3"
  },
  "language_info": {
   "codemirror_mode": {
    "name": "ipython",
    "version": 3
   },
   "file_extension": ".py",
   "mimetype": "text/x-python",
   "name": "python",
   "nbconvert_exporter": "python",
   "pygments_lexer": "ipython3",
   "version": "3.9.13"
  }
 },
 "nbformat": 4,
 "nbformat_minor": 5
}
