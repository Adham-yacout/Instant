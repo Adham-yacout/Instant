{
 "cells": [
  {
   "cell_type": "code",
   "execution_count": 1,
   "id": "de912769",
   "metadata": {
    "ExecuteTime": {
     "end_time": "2023-05-22T12:29:52.942316Z",
     "start_time": "2023-05-22T12:29:52.722458Z"
    }
   },
   "outputs": [],
   "source": [
    "import requests\n",
    "from bs4 import BeautifulSoup #beautiful soup version 4\n",
    "import csv\n"
   ]
  },
  {
   "cell_type": "code",
   "execution_count": 6,
   "id": "be519ccb",
   "metadata": {
    "ExecuteTime": {
     "end_time": "2023-05-22T12:34:36.669589Z",
     "start_time": "2023-05-22T12:34:36.646561Z"
    }
   },
   "outputs": [],
   "source": [
    "with open ('simple.html') as html_file:\n",
    "    soup = BeautifulSoup(html_file, 'lxml') # parser, #parsing"
   ]
  },
  {
   "cell_type": "code",
   "execution_count": 11,
   "id": "49cb97d4",
   "metadata": {
    "ExecuteTime": {
     "end_time": "2023-05-22T12:35:35.639818Z",
     "start_time": "2023-05-22T12:35:35.628020Z"
    }
   },
   "outputs": [
    {
     "data": {
      "text/plain": [
       "<function print>"
      ]
     },
     "execution_count": 11,
     "metadata": {},
     "output_type": "execute_result"
    }
   ],
   "source": [
    "\n",
    "print\n"
   ]
  },
  {
   "cell_type": "code",
   "execution_count": 94,
   "id": "f1a72c68",
   "metadata": {
    "ExecuteTime": {
     "end_time": "2023-05-22T13:50:37.965654Z",
     "start_time": "2023-05-22T13:50:37.517185Z"
    }
   },
   "outputs": [],
   "source": [
    "import csv\n",
    "\n",
    "website = requests.get(\"https://edition.cnn.com/europe/live-news/russia-ukraine-war-news-05-22-23/index.html\").text\n",
    "soup = BeautifulSoup(website, 'lxml')\n",
    "\n",
    "title_temp = soup.find('div', class_='headline')\n",
    "title = title_temp.text.strip() if title_temp else \"\"\n",
    "\n",
    "main_div_temp = soup.find('article', class_='sc-bwzfXH sc-eXEjpC iGQwpp')\n",
    "article_temp = main_div_temp.find('div', class_='sc-bdVaJa post-content-rendered render-stellar-contentstyles__Content-sc-9v7nwy-0 erzhuK') \n",
    "\n",
    "if article_temp:\n",
    "    paragraphs = article_temp.text.strip()\n",
    "  \n",
    "else:\n",
    "    article = \"\"\n",
    "\n",
    "csvfile = open('scrapes.csv', 'w', encoding='utf-8')\n",
    "writer = csv.writer(csvfile)\n",
    "writer.writerow(['title', 'article'])\n",
    "writer.writerow([title, paragraphs])\n",
    "csvfile.close()\n"
   ]
  },
  {
   "cell_type": "code",
   "execution_count": null,
   "id": "c38a8bfc",
   "metadata": {},
   "outputs": [],
   "source": []
  }
 ],
 "metadata": {
  "kernelspec": {
   "display_name": "Python 3 (ipykernel)",
   "language": "python",
   "name": "python3"
  },
  "language_info": {
   "codemirror_mode": {
    "name": "ipython",
    "version": 3
   },
   "file_extension": ".py",
   "mimetype": "text/x-python",
   "name": "python",
   "nbconvert_exporter": "python",
   "pygments_lexer": "ipython3",
   "version": "3.9.13"
  }
 },
 "nbformat": 4,
 "nbformat_minor": 5
}
